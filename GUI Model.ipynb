{
 "cells": [
  {
   "cell_type": "code",
   "execution_count": 2,
   "metadata": {},
   "outputs": [
    {
     "name": "stdout",
     "output_type": "stream",
     "text": [
      "fertig1\n",
      "fertig2\n"
     ]
    }
   ],
   "source": [
    "import streamlit as st\n",
    "import pandas as pd\n",
    "import numpy as np\n",
    "import pickle\n",
    "import shap\n",
    "from pandas_profiling import ProfileReport\n",
    "from streamlit_pandas_profiling import st_profile_report\n",
    "from sklearn.ensemble import RandomForestRegressor\n",
    "from sklearn.model_selection import train_test_split\n",
    "from sklearn.metrics import mean_squared_error\n",
    "\n",
    "imputed_data = pd.read_csv('imputed_all.csv')\n",
    "\n",
    "# Encoding von object-Variablen in Liste\n",
    "categorical_mask = (imputed_data.dtypes == \"object\")\n",
    "categorical_columns = imputed_data.columns[categorical_mask].tolist()\n",
    "category_enc = pd.get_dummies(imputed_data[categorical_columns])\n",
    "imputed_data = pd.concat([imputed_data, category_enc], axis=1)\n",
    "imputed_data = imputed_data.drop(columns=categorical_columns)\n",
    "\n",
    "# Festlegung X und Y; Test und Trainingsdaten definieren\n",
    "#x = imputed_data.drop('angebotspreis', axis=1).values\n",
    "#y = imputed_data['angebotspreis'].values\n",
    "\n",
    "x = imputed_data.drop(columns=[\"angebotspreis\"]).values\n",
    "y = imputed_data[\"angebotspreis\"].values\n",
    "\n",
    "x_train, x_test, y_train, y_test = train_test_split(x, y, test_size=0.2)\n",
    "\n",
    "# RandomForrestModel\n",
    "random_forrest_reg = RandomForestRegressor()\n",
    "random_forrest_reg.fit(x_train, y_train)\n",
    "\n",
    "#EDA\n",
    "def load_csv():\n",
    "    csv = pd.read_csv('imputed_all.csv')\n",
    "    return csv\n",
    "df = load_csv()\n",
    "pr = ProfileReport(df, explorative=True)\n",
    "\n",
    "\n",
    "# Speicherung des Models als Pickle-Datei\n",
    "pickle.dump(random_forrest_reg, open('random_forrest_reg.pkl', 'wb'))\n",
    "print('fertig1')\n",
    "pickle.dump(pr, open('pr.pkl', 'wb'))\n",
    "print('fertig2')"
   ]
  },
  {
   "cell_type": "code",
   "execution_count": null,
   "metadata": {},
   "outputs": [],
   "source": []
  }
 ],
 "metadata": {
  "kernelspec": {
   "display_name": "Python 3",
   "language": "python",
   "name": "python3"
  },
  "language_info": {
   "codemirror_mode": {
    "name": "ipython",
    "version": 3
   },
   "file_extension": ".py",
   "mimetype": "text/x-python",
   "name": "python",
   "nbconvert_exporter": "python",
   "pygments_lexer": "ipython3",
   "version": "3.8.3"
  }
 },
 "nbformat": 4,
 "nbformat_minor": 4
}
